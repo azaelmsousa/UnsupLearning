{
 "cells": [
  {
   "cell_type": "markdown",
   "metadata": {},
   "source": [
    "# Number of Clusters\n",
    "\n",
    "This experiment has the purpose of defining the number of clusters presented in the data. For that, we use the t-SNE for the projection of the data (dimensionality reduction), and an error metric to determine the best number of clusters. The metrics used are: square of the 2-norm distance metric, silhouette score and Davies-Bouldin Index. \n",
    "\n",
    "In this notebook we employed the **Davies Bouldin** index. This metric was not seen during classes but if the ground truth is not known, it can be used to evaluate the model. This index is defined as the average similarity between each cluster and its most similar one. Zero is the lowest possible score. Values closer to zero indicate a better partition.\n",
    "\n",
    "Metrics such as adjusted rand index, mutual information based scores, homogeneity, completeness and V-measure can not be used in this work because they require the ground truth (true labels) of the data."
   ]
  },
  {
   "cell_type": "code",
   "execution_count": 1,
   "metadata": {},
   "outputs": [],
   "source": [
    "import sys\n",
    "sys.path.append('../')\n",
    "from src import reader as r\n",
    "from src import visualization as v"
   ]
  },
  {
   "cell_type": "code",
   "execution_count": 2,
   "metadata": {},
   "outputs": [
    {
     "name": "stdout",
     "output_type": "stream",
     "text": [
      "Requirement already satisfied: scikit-learn==0.20.0 in /opt/conda/lib/python3.6/site-packages (0.20.0)\n",
      "Requirement already satisfied: MulticoreTSNE in /opt/conda/lib/python3.6/site-packages (0.0.1.1)\n",
      "Requirement already satisfied: scipy>=0.13.3 in /opt/conda/lib/python3.6/site-packages (from scikit-learn==0.20.0) (1.1.0)\n",
      "Requirement already satisfied: numpy>=1.8.2 in /opt/conda/lib/python3.6/site-packages (from scikit-learn==0.20.0) (1.13.3)\n",
      "Requirement already satisfied: cffi in /opt/conda/lib/python3.6/site-packages (from MulticoreTSNE) (1.11.5)\n",
      "Requirement already satisfied: pycparser in /opt/conda/lib/python3.6/site-packages (from cffi->MulticoreTSNE) (2.19)\n"
     ]
    }
   ],
   "source": [
    "!pip install scikit-learn==0.20.0 MulticoreTSNE"
   ]
  },
  {
   "cell_type": "code",
   "execution_count": 3,
   "metadata": {},
   "outputs": [
    {
     "name": "stdout",
     "output_type": "stream",
     "text": [
      "0.20.0\n"
     ]
    }
   ],
   "source": [
    "import numpy as np\n",
    "import sklearn\n",
    "print(sklearn.__version__)\n",
    "from sklearn.cluster import KMeans\n",
    "from sklearn.cluster import DBSCAN\n",
    "from sklearn.decomposition import PCA\n",
    "from sklearn.preprocessing import StandardScaler, RobustScaler\n",
    "from sklearn.metrics import davies_bouldin_score\n"
   ]
  },
  {
   "cell_type": "code",
   "execution_count": 5,
   "metadata": {},
   "outputs": [
    {
     "name": "stdout",
     "output_type": "stream",
     "text": [
      "['word2vec.csv', 'bags.csv', 'health.txt', 'health-dataset.zip', 'health-dataset']\n",
      "(13229, 128)\n"
     ]
    }
   ],
   "source": [
    "X = r.readWord2Vec()\n",
    "\n",
    "print(X.shape)"
   ]
  },
  {
   "cell_type": "code",
   "execution_count": null,
   "metadata": {},
   "outputs": [],
   "source": [
    "from MulticoreTSNE import MulticoreTSNE as TSNE\n",
    "\n",
    "smp_sz = 7000\n",
    "tsne_bow = TSNE(n_jobs=-1, n_components=2, perplexity=500, verbose=True)\n",
    "tsne_bow_result = tsne_bow.fit_transform(X[:smp_sz])"
   ]
  },
  {
   "cell_type": "markdown",
   "metadata": {},
   "source": [
    "## Davies-Bouldin --- K-means\n",
    "This methods aims to define the best number of clusters (K) by the silhouette score."
   ]
  },
  {
   "cell_type": "code",
   "execution_count": null,
   "metadata": {},
   "outputs": [],
   "source": [
    "davies_bouldin = 10\n",
    "Ks = []\n",
    "Ds = []\n",
    "Epsilon = 2.0\n",
    "it = 1\n",
    "J = 0.\n",
    "\n",
    "k = 2\n",
    "print(\"###############################\")\n",
    "while ((davies_bouldin > Epsilon) or (it == 1)):\n",
    "    print(\"Number of Clusters:\",k)\n",
    "    print(\"Starting K-means++\")\n",
    "    cluster = KMeans(n_jobs=-1, n_clusters=k,random_state=42)\n",
    "    cluster_result = cluster.fit(X)\n",
    "    print(\"Finished\")    \n",
    "    davies_bouldin = davies_bouldin_score(X,cluster_result.labels_)\n",
    "    Ds.append(davies_bouldin)\n",
    "    print(\"davies-bouldin score of\", davies_bouldin)    \n",
    "    Ks.append(k)\n",
    "    k += 100\n",
    "    it += 1\n",
    "    print(\"###############################\")\n",
    "    \n",
    "best_K = k-100\n",
    "print(\"\\nBest k:\",best_K)\n",
    "print(\"Number of iterations:\",it)"
   ]
  },
  {
   "cell_type": "code",
   "execution_count": null,
   "metadata": {},
   "outputs": [],
   "source": [
    "print(\"#############################\")\n",
    "print(\"Best K =\", best_K)\n",
    "print(\"Applying K-means\")\n",
    "best_cluster = KMeans(n_jobs=-1, n_clusters=best_K)\n",
    "best_cluster_result = best_cluster.fit(X)\n",
    "print(\"Finished\")\n",
    "print(\"#############################\")"
   ]
  },
  {
   "cell_type": "code",
   "execution_count": null,
   "metadata": {},
   "outputs": [],
   "source": [
    "true_label = best_cluster_result.labels_"
   ]
  },
  {
   "cell_type": "code",
   "execution_count": null,
   "metadata": {},
   "outputs": [],
   "source": [
    "v.visualize_sup_scatter(tsne_bow_result, true_label[:smp_sz])"
   ]
  },
  {
   "cell_type": "code",
   "execution_count": null,
   "metadata": {},
   "outputs": [],
   "source": []
  }
 ],
 "metadata": {
  "kernelspec": {
   "display_name": "Python 3",
   "language": "python",
   "name": "python3"
  },
  "language_info": {
   "codemirror_mode": {
    "name": "ipython",
    "version": 3
   },
   "file_extension": ".py",
   "mimetype": "text/x-python",
   "name": "python",
   "nbconvert_exporter": "python",
   "pygments_lexer": "ipython3",
   "version": "3.6.6"
  }
 },
 "nbformat": 4,
 "nbformat_minor": 2
}
