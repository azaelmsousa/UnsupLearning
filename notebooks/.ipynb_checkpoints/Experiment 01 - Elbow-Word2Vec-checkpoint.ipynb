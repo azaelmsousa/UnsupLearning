{
 "cells": [
  {
   "cell_type": "markdown",
   "metadata": {},
   "source": [
    "# Number of Clusters\n",
    "\n",
    "This experiment has the purpose of defining the number of clusters presented in the data. For that, we use the t-SNE for the projection of the data (dimensionality reduction), and an error metric to determine the best number of clusters. The metrics used are: square of the 2-norm distance metric, silhouette score and Davies-Bouldin Index.\n",
    "\n",
    "In this notebook we employed the **square of the 2-norm distance**. This metric computes the mean distance of every point to its cluster.\n",
    "\n",
    "Metrics such as adjusted rand index, mutual information based scores, homogeneity, completeness and V-measure can not be used in this work because they require the ground truth (true labels) of the data."
   ]
  },
  {
   "cell_type": "code",
   "execution_count": 1,
   "metadata": {},
   "outputs": [],
   "source": [
    "import sys\n",
    "sys.path.append('../')\n",
    "from src import reader as r\n",
    "from src import visualization as v"
   ]
  },
  {
   "cell_type": "code",
   "execution_count": 2,
   "metadata": {},
   "outputs": [],
   "source": [
    "import numpy as np\n",
    "import sklearn\n",
    "from sklearn.cluster import KMeans\n",
    "from sklearn.cluster import DBSCAN\n",
    "from sklearn.decomposition import PCA \n",
    "from sklearn.preprocessing import StandardScaler, RobustScaler\n",
    "from sklearn.metrics import silhouette_score"
   ]
  },
  {
   "cell_type": "code",
   "execution_count": 4,
   "metadata": {},
   "outputs": [
    {
     "name": "stdout",
     "output_type": "stream",
     "text": [
      "['word2vec.csv', 'bags.csv', 'health.txt', 'health-dataset.zip', 'health-dataset']\n",
      "[[ 0.  0.  0. ...,  0.  0.  0.]\n",
      " [ 0.  0.  0. ...,  0.  0.  0.]\n",
      " [ 0.  0.  0. ...,  0.  0.  0.]\n",
      " ..., \n",
      " [ 0.  0.  0. ...,  0.  0.  0.]\n",
      " [ 0.  0.  0. ...,  0.  0.  0.]\n",
      " [ 0.  0.  0. ...,  0.  0.  0.]]\n",
      "(13229, 1203)\n"
     ]
    }
   ],
   "source": [
    "X = r.readWord2Vec()\n",
    "print(X[:10])\n",
    "print(X.shape)"
   ]
  },
  {
   "cell_type": "code",
   "execution_count": null,
   "metadata": {},
   "outputs": [],
   "source": [
    "from MulticoreTSNE import MulticoreTSNE as TSNE\n",
    "\n",
    "smp_sz = 7000\n",
    "tsne_bow = TSNE(n_components=2, perplexity=500, verbose=True)\n",
    "tsne_bow_result = tsne_bow.fit_transform(X[:smp_sz])"
   ]
  },
  {
   "cell_type": "markdown",
   "metadata": {},
   "source": [
    "## Elbow Method --- K-means++\n",
    "This methods aims to define the best number of clusters (K) by the cost function J computed during the K-means."
   ]
  },
  {
   "cell_type": "code",
   "execution_count": null,
   "metadata": {
    "scrolled": false
   },
   "outputs": [],
   "source": [
    "error = 0\n",
    "Ks = []\n",
    "Js = []\n",
    "Epsilon = 1e-2\n",
    "it = 1\n",
    "J = 0.\n",
    "\n",
    "k = 2\n",
    "print(\"###############################\")\n",
    "while ((error > Epsilon) or (it == 1)):\n",
    "    print(\"Number of Clusters:\",k)\n",
    "    print(\"Starting K-means++\")\n",
    "    cluster = KMeans(n_clusters=k,random_state=42,n_jobs=-1)\n",
    "    cluster_result = cluster.fit(X)\n",
    "    print(\"Finished\")\n",
    "    error = J\n",
    "    J = cluster_result.inertia_ / X.shape[0]        \n",
    "    print(\"J =\",J)\n",
    "    error = abs(error-J)  \n",
    "    Ks.append(k)\n",
    "    print(\"error =\",error)\n",
    "    Js.append(J)\n",
    "    k += 10\n",
    "    it += 1\n",
    "    print(\"###############################\")\n",
    "    \n",
    "best_K = k-10\n",
    "print(\"\\nBest k:\",best_K)\n",
    "print(\"Number of iterations:\",it)"
   ]
  },
  {
   "cell_type": "code",
   "execution_count": null,
   "metadata": {},
   "outputs": [],
   "source": [
    "v.plot_cluster_errors(Ks,Js)"
   ]
  },
  {
   "cell_type": "markdown",
   "metadata": {},
   "source": [
    "After analysing the elbow curve, we conclude that the best number of clusters (K) is 52."
   ]
  },
  {
   "cell_type": "code",
   "execution_count": null,
   "metadata": {},
   "outputs": [],
   "source": [
    "print(\"#############################\")\n",
    "print(\"Best K =\", best_K)\n",
    "print(\"Applying K-means\")\n",
    "best_cluster = KMeans(n_clusters=best_K)\n",
    "best_cluster_result = best_cluster.fit(X)\n",
    "print(\"Finished\")\n",
    "print(\"#############################\")"
   ]
  },
  {
   "cell_type": "code",
   "execution_count": null,
   "metadata": {},
   "outputs": [],
   "source": [
    "true_label = best_cluster_result.labels_"
   ]
  },
  {
   "cell_type": "code",
   "execution_count": null,
   "metadata": {},
   "outputs": [],
   "source": [
    "v.visualize_sup_scatter(tsne_bow_result, true_label[:smp_sz])"
   ]
  },
  {
   "cell_type": "markdown",
   "metadata": {},
   "source": [
    "## DBSCAN\n",
    "In this section we aim to define the best number of clusters (K), but this time by means of the Density-Based Spatial Clustering of Applications with Noise (DBSCAN). The DBSCAN use a proximity and density primitives to determine if a datapoint belongs to an existing cluster or if another one should be created."
   ]
  },
  {
   "cell_type": "code",
   "execution_count": null,
   "metadata": {},
   "outputs": [],
   "source": [
    "dbscan = DBSCAN(eps=0.9,min_samples=2)\n",
    "y = dbscan.fit_predict(X)"
   ]
  },
  {
   "cell_type": "code",
   "execution_count": null,
   "metadata": {},
   "outputs": [],
   "source": [
    "print(\"Number of clusters\",len(np.unique(y)))\n",
    "v.visualize_sup_scatter(tsne_bow_result, y[:smp_sz])"
   ]
  },
  {
   "cell_type": "code",
   "execution_count": null,
   "metadata": {},
   "outputs": [],
   "source": []
  }
 ],
 "metadata": {
  "kernelspec": {
   "display_name": "Python 3",
   "language": "python",
   "name": "python3"
  },
  "language_info": {
   "codemirror_mode": {
    "name": "ipython",
    "version": 3
   },
   "file_extension": ".py",
   "mimetype": "text/x-python",
   "name": "python",
   "nbconvert_exporter": "python",
   "pygments_lexer": "ipython3",
   "version": "3.6.6"
  }
 },
 "nbformat": 4,
 "nbformat_minor": 2
}
