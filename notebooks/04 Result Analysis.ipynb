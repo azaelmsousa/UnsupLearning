{
 "cells": [
  {
   "cell_type": "markdown",
   "metadata": {},
   "source": [
    "# Selecting methods\n",
    "We are selecting the results based on: \n",
    "    1. Lowest Davies Bouldin Index\n",
    "    2. Highest Calinski and Harabaz\n",
    "    3. Highest Silhouette"
   ]
  },
  {
   "cell_type": "code",
   "execution_count": 1,
   "metadata": {},
   "outputs": [
    {
     "name": "stderr",
     "output_type": "stream",
     "text": [
      "/opt/conda/lib/python3.6/importlib/_bootstrap.py:219: RuntimeWarning: numpy.dtype size changed, may indicate binary incompatibility. Expected 96, got 88\n",
      "  return f(*args, **kwds)\n",
      "/opt/conda/lib/python3.6/importlib/_bootstrap.py:219: RuntimeWarning: numpy.dtype size changed, may indicate binary incompatibility. Expected 96, got 88\n",
      "  return f(*args, **kwds)\n"
     ]
    }
   ],
   "source": [
    "import sys\n",
    "sys.path.append('../')\n",
    "from src import optimizer as _optimizer\n",
    "from src import reader as _reader\n",
    "from src import visualization as _visualization\n",
    "from src import metrics as _metrics\n",
    "import numpy as np\n",
    "import sklearn\n",
    "from sklearn.cluster import KMeans\n"
   ]
  },
  {
   "cell_type": "markdown",
   "metadata": {},
   "source": [
    "## Best using Davies Bouldin - 3.52"
   ]
  },
  {
   "cell_type": "code",
   "execution_count": null,
   "metadata": {},
   "outputs": [
    {
     "name": "stdout",
     "output_type": "stream",
     "text": [
      "['word2vec.csv', 'bags.csv', 'health.txt', 'health-dataset.zip', 'health-dataset']\n"
     ]
    }
   ],
   "source": [
    "X_bow_norm = _reader.readBOW()\n",
    "hc_bow_norm = _optimizer.fcluster_cut(X_bow_norm, max_d=4)\n",
    "_metrics.applyAllMetrics(X_bow_norm,hc_bow_norm)"
   ]
  },
  {
   "cell_type": "markdown",
   "metadata": {},
   "source": [
    "## Best using Calinski and Harabaz - 100.18"
   ]
  },
  {
   "cell_type": "code",
   "execution_count": null,
   "metadata": {
    "scrolled": true
   },
   "outputs": [],
   "source": [
    "X_word2vec_non_norm = _reader.readWord2Vec(normed=False)\n",
    "cluster_k = KMeans(n_clusters=22,random_state=42,n_jobs=-1)\n",
    "kmeans_word2vec_non_norm = cluster_k.fit(X_word2vec_non_norm)\n",
    "_metrics.applyAllMetrics(X_word2vec_non_norm,kmeans_word2vec_non_norm.labels_)"
   ]
  },
  {
   "cell_type": "markdown",
   "metadata": {},
   "source": [
    "## Best using Silhouette Score - 0.539"
   ]
  },
  {
   "cell_type": "code",
   "execution_count": null,
   "metadata": {},
   "outputs": [],
   "source": [
    "X_BOW_non_norm = _reader.readBOW(normed=False)\n",
    "cluster_k = KMeans(n_clusters=71,random_state=42,n_jobs=-1)\n",
    "kmeans_BOW_non_norm = cluster_k.fit(X_BOW_non_norm)\n",
    "_metrics.applyAllMetrics(X_BOW_non_norm,kmeans_BOW_non_norm.labels_)"
   ]
  }
 ],
 "metadata": {
  "kernelspec": {
   "display_name": "Python 3",
   "language": "python",
   "name": "python3"
  },
  "language_info": {
   "codemirror_mode": {
    "name": "ipython",
    "version": 3
   },
   "file_extension": ".py",
   "mimetype": "text/x-python",
   "name": "python",
   "nbconvert_exporter": "python",
   "pygments_lexer": "ipython3",
   "version": "3.6.6"
  }
 },
 "nbformat": 4,
 "nbformat_minor": 2
}
