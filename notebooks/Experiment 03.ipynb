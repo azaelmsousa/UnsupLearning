{
 "cells": [
  {
   "cell_type": "markdown",
   "metadata": {},
   "source": [
    "# Validating the Clusters\n",
    "In this experiment, multiple metrics will be employed in order to validate the clusters. Metrics such as adjusted rand index, mutual information based scores, homogeneity, completeness and V-measure can not be used in this work because they require the ground truth (true labels) of the data.\n",
    "\n",
    "Number of clusters used: 72."
   ]
  },
  {
   "cell_type": "markdown",
   "metadata": {},
   "source": [
    "## Loading the Data"
   ]
  },
  {
   "cell_type": "code",
   "execution_count": 1,
   "metadata": {},
   "outputs": [],
   "source": [
    "import sys\n",
    "import os\n",
    "sys.path.append('../')\n",
    "from src import reader as r\n",
    "from src import visualization as v"
   ]
  },
  {
   "cell_type": "code",
   "execution_count": 12,
   "metadata": {},
   "outputs": [
    {
     "name": "stdout",
     "output_type": "stream",
     "text": [
      "0.20.0\n"
     ]
    }
   ],
   "source": [
    "%matplotlib notebook\n",
    "import numpy as np\n",
    "import pandas as pd\n",
    "import sklearn\n",
    "print(sklearn.__version__)\n",
    "from sklearn.cluster import KMeans\n",
    "from sklearn.cluster import DBSCAN\n",
    "from sklearn.decomposition import PCA\n",
    "from sklearn.manifold import TSNE\n",
    "from sklearn.preprocessing import StandardScaler, RobustScaler\n",
    "from sklearn.metrics import davies_bouldin_score, calinski_harabaz_score"
   ]
  },
  {
   "cell_type": "code",
   "execution_count": 3,
   "metadata": {},
   "outputs": [
    {
     "name": "stdout",
     "output_type": "stream",
     "text": [
      "['health.txt', 'bags.csv', 'word2vec.csv']\n",
      "[[0. 0. 0. ... 0. 0. 0.]\n",
      " [0. 0. 0. ... 0. 0. 0.]\n",
      " [0. 0. 0. ... 0. 0. 0.]\n",
      " ...\n",
      " [0. 0. 0. ... 0. 0. 0.]\n",
      " [0. 0. 0. ... 0. 0. 0.]\n",
      " [0. 0. 0. ... 0. 0. 0.]]\n",
      "   0     1     2     3     4     5     6     7     8     9     ...   1193  \\\n",
      "0   0.0   0.0   0.0   0.0   0.0   0.0   0.0   0.0   0.0   0.0  ...    0.0   \n",
      "1   0.0   0.0   0.0   0.0   0.0   0.0   0.0   0.0   0.0   0.0  ...    0.0   \n",
      "2   0.0   0.0   0.0   0.0   0.0   0.0   0.0   0.0   0.0   0.0  ...    0.0   \n",
      "3   0.0   0.0   0.0   0.0   0.0   0.0   0.0   0.0   0.0   0.0  ...    0.0   \n",
      "4   0.0   0.0   0.0   0.0   0.0   0.0   0.0   0.0   0.0   0.0  ...    0.0   \n",
      "5   0.0   0.0   0.0   0.0   0.0   0.0   0.0   0.0   0.0   0.0  ...    0.0   \n",
      "6   0.0   0.0   0.0   0.0   0.0   0.0   0.0   0.0   0.0   0.0  ...    0.0   \n",
      "7   0.0   0.0   0.0   0.0   0.0   0.0   0.0   0.0   0.0   0.0  ...    0.0   \n",
      "8   0.0   0.0   0.0   0.0   0.0   0.0   0.0   0.0   0.0   0.0  ...    0.0   \n",
      "9   0.0   0.0   0.0   0.0   0.0   0.0   0.0   0.0   0.0   0.0  ...    0.0   \n",
      "\n",
      "   1194  1195  1196  1197  1198  1199      1200  1201  1202  \n",
      "0   0.0   0.0   0.0   0.0   0.0   0.0  0.000000   0.0   0.0  \n",
      "1   0.0   0.0   0.0   0.0   0.0   0.0  0.000000   0.0   0.0  \n",
      "2   0.0   0.0   0.0   0.0   0.0   0.0  0.000000   0.0   0.0  \n",
      "3   0.0   0.0   0.0   0.0   0.0   0.0  0.552201   0.0   0.0  \n",
      "4   0.0   0.0   0.0   0.0   0.0   0.0  0.000000   0.0   0.0  \n",
      "5   0.0   0.0   0.0   0.0   0.0   0.0  0.000000   0.0   0.0  \n",
      "6   0.0   0.0   0.0   0.0   0.0   0.0  0.000000   0.0   0.0  \n",
      "7   0.0   0.0   0.0   0.0   0.0   0.0  0.000000   0.0   0.0  \n",
      "8   0.0   0.0   0.0   0.0   0.0   0.0  0.000000   0.0   0.0  \n",
      "9   0.0   0.0   0.0   0.0   0.0   0.0  0.000000   0.0   0.0  \n",
      "\n",
      "[10 rows x 1203 columns]\n",
      "(13229, 1203)\n"
     ]
    }
   ],
   "source": [
    "X = r.readBOW()\n",
    "npX = X.values\n",
    "print(npX)\n",
    "print(X.head(10))\n",
    "print(X.shape)"
   ]
  },
  {
   "cell_type": "code",
   "execution_count": 4,
   "metadata": {},
   "outputs": [],
   "source": [
    "from MulticoreTSNE import MulticoreTSNE as TSNE\n",
    "\n",
    "smp_sz = X.size\n",
    "tsne_bow = TSNE(n_components=2, perplexity=10, verbose=True, n_jobs=-1)#500\n",
    "tsne_bow_result = tsne_bow.fit_transform(X)"
   ]
  },
  {
   "cell_type": "markdown",
   "metadata": {},
   "source": [
    "## Computing clusters"
   ]
  },
  {
   "cell_type": "code",
   "execution_count": 5,
   "metadata": {},
   "outputs": [
    {
     "name": "stdout",
     "output_type": "stream",
     "text": [
      "#############################\n",
      "Best K = 72\n",
      "Applying K-means\n",
      "Finished\n",
      "#############################\n"
     ]
    }
   ],
   "source": [
    "best_K = 72\n",
    "print(\"#############################\")\n",
    "print(\"Best K =\", best_K)\n",
    "print(\"Applying K-means\")\n",
    "best_cluster = KMeans(n_clusters=best_K, n_jobs=-1)\n",
    "best_cluster_result = best_cluster.fit(X)\n",
    "y_pred = best_cluster_result.labels_\n",
    "print(\"Finished\")\n",
    "print(\"#############################\")   "
   ]
  },
  {
   "cell_type": "markdown",
   "metadata": {},
   "source": [
    "### Checking if there are any cluster with 0 points"
   ]
  },
  {
   "cell_type": "code",
   "execution_count": 11,
   "metadata": {},
   "outputs": [
    {
     "name": "stdout",
     "output_type": "stream",
     "text": [
      "Cluster 0 has 143 elements\n",
      "Cluster 1 has 366 elements\n",
      "Cluster 2 has 128 elements\n",
      "Cluster 3 has 40 elements\n",
      "Cluster 4 has 192 elements\n",
      "Cluster 5 has 124 elements\n",
      "Cluster 6 has 1 elements\n",
      "Cluster 7 has 96 elements\n",
      "Cluster 8 has 156 elements\n",
      "Cluster 9 has 1 elements\n",
      "Cluster 10 has 841 elements\n",
      "Cluster 11 has 160 elements\n",
      "Cluster 12 has 118 elements\n",
      "Cluster 13 has 154 elements\n",
      "Cluster 14 has 160 elements\n",
      "Cluster 15 has 109 elements\n",
      "Cluster 16 has 314 elements\n",
      "Cluster 17 has 232 elements\n",
      "Cluster 18 has 46 elements\n",
      "Cluster 19 has 108 elements\n",
      "Cluster 20 has 205 elements\n",
      "Cluster 21 has 69 elements\n",
      "Cluster 22 has 288 elements\n",
      "Cluster 23 has 142 elements\n",
      "Cluster 24 has 171 elements\n",
      "Cluster 25 has 1 elements\n",
      "Cluster 26 has 106 elements\n",
      "Cluster 27 has 91 elements\n",
      "Cluster 28 has 383 elements\n",
      "Cluster 29 has 129 elements\n",
      "Cluster 30 has 1 elements\n",
      "Cluster 31 has 46 elements\n",
      "Cluster 32 has 89 elements\n",
      "Cluster 33 has 124 elements\n",
      "Cluster 34 has 4798 elements\n",
      "Cluster 35 has 40 elements\n",
      "Cluster 36 has 109 elements\n",
      "Cluster 37 has 17 elements\n",
      "Cluster 38 has 22 elements\n",
      "Cluster 39 has 74 elements\n",
      "Cluster 40 has 48 elements\n",
      "Cluster 41 has 75 elements\n",
      "Cluster 42 has 72 elements\n",
      "Cluster 43 has 357 elements\n",
      "Cluster 44 has 16 elements\n",
      "Cluster 45 has 124 elements\n",
      "Cluster 46 has 177 elements\n",
      "Cluster 47 has 84 elements\n",
      "Cluster 48 has 27 elements\n",
      "Cluster 49 has 25 elements\n",
      "Cluster 50 has 10 elements\n",
      "Cluster 51 has 42 elements\n",
      "Cluster 52 has 73 elements\n",
      "Cluster 53 has 71 elements\n",
      "Cluster 54 has 150 elements\n",
      "Cluster 55 has 99 elements\n",
      "Cluster 56 has 139 elements\n",
      "Cluster 57 has 91 elements\n",
      "Cluster 58 has 161 elements\n",
      "Cluster 59 has 298 elements\n",
      "Cluster 60 has 19 elements\n",
      "Cluster 61 has 98 elements\n",
      "Cluster 62 has 17 elements\n",
      "Cluster 63 has 29 elements\n",
      "Cluster 64 has 130 elements\n",
      "Cluster 65 has 27 elements\n",
      "Cluster 66 has 12 elements\n",
      "Cluster 67 has 68 elements\n",
      "Cluster 68 has 80 elements\n",
      "Cluster 69 has 99 elements\n",
      "Cluster 70 has 75 elements\n",
      "Cluster 71 has 42 elements\n"
     ]
    }
   ],
   "source": [
    "for i in range(best_K):\n",
    "    print(\"Cluster \"+str(i)+\" has \"+str(npX[y_pred==i].shape[0])+\" elements\")"
   ]
  },
  {
   "cell_type": "markdown",
   "metadata": {},
   "source": [
    "## Applying Metrics"
   ]
  },
  {
   "cell_type": "markdown",
   "metadata": {},
   "source": [
    "### Davies Bouldin\n",
    "This metric was not seen during classes but if the ground truth is not known, it can be used to evaluate the model. This index is defined as the average similarity between each cluster and its most similar one. Zero is the lowest possible score. Values closer to zero indicate a better partition."
   ]
  },
  {
   "cell_type": "code",
   "execution_count": 8,
   "metadata": {},
   "outputs": [
    {
     "name": "stdout",
     "output_type": "stream",
     "text": [
      "Davies Bouldin\n",
      "3.416583706740068\n"
     ]
    },
    {
     "name": "stderr",
     "output_type": "stream",
     "text": [
      "/home/azael/Trabalhos/MO444/MO444/lib/python3.5/site-packages/sklearn/metrics/cluster/unsupervised.py:342: RuntimeWarning: divide by zero encountered in true_divide\n",
      "  score = (intra_dists[:, None] + intra_dists) / centroid_distances\n",
      "/home/azael/Trabalhos/MO444/MO444/lib/python3.5/site-packages/sklearn/metrics/cluster/unsupervised.py:342: RuntimeWarning: invalid value encountered in true_divide\n",
      "  score = (intra_dists[:, None] + intra_dists) / centroid_distances\n"
     ]
    }
   ],
   "source": [
    "score_db = davies_bouldin_score(npX,y_pred)\n",
    "print(\"Davies Bouldin\")\n",
    "print(score_db)"
   ]
  },
  {
   "cell_type": "markdown",
   "metadata": {},
   "source": [
    "### Kullback - Leibler"
   ]
  },
  {
   "cell_type": "code",
   "execution_count": null,
   "metadata": {},
   "outputs": [],
   "source": []
  },
  {
   "cell_type": "markdown",
   "metadata": {},
   "source": [
    "### Calinski and Harabaz\n",
    "If the ground truth labels are not known, the Calinski-Harabaz index - also known as the Variance Ratio Criterion - can be used to evaluate the model, where a higher Calinski-Harabaz score relates to a model with better defined clusters.\n",
    "To assess this metric, it must be computed for multiple clusters and visualy analyse the results."
   ]
  },
  {
   "cell_type": "code",
   "execution_count": 14,
   "metadata": {},
   "outputs": [
    {
     "name": "stdout",
     "output_type": "stream",
     "text": [
      "Calinski and Harabaz\n",
      "30.239542352563117\n"
     ]
    }
   ],
   "source": [
    "score_ch = calinski_harabaz_score(npX,y_pred)\n",
    "print(\"Calinski and Harabaz\")\n",
    "print(score_ch)"
   ]
  }
 ],
 "metadata": {
  "kernelspec": {
   "display_name": "Python 3",
   "language": "python",
   "name": "python3"
  },
  "language_info": {
   "codemirror_mode": {
    "name": "ipython",
    "version": 3
   },
   "file_extension": ".py",
   "mimetype": "text/x-python",
   "name": "python",
   "nbconvert_exporter": "python",
   "pygments_lexer": "ipython3",
   "version": "3.5.2"
  }
 },
 "nbformat": 4,
 "nbformat_minor": 2
}
