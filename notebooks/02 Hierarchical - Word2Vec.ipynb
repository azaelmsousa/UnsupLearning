{
 "cells": [
  {
   "cell_type": "markdown",
   "metadata": {},
   "source": [
    "# Non Normed"
   ]
  },
  {
   "cell_type": "code",
   "execution_count": 1,
   "metadata": {},
   "outputs": [
    {
     "name": "stderr",
     "output_type": "stream",
     "text": [
      "/opt/conda/lib/python3.6/importlib/_bootstrap.py:219: RuntimeWarning: numpy.dtype size changed, may indicate binary incompatibility. Expected 96, got 88\n",
      "  return f(*args, **kwds)\n",
      "/opt/conda/lib/python3.6/importlib/_bootstrap.py:219: RuntimeWarning: numpy.dtype size changed, may indicate binary incompatibility. Expected 96, got 88\n",
      "  return f(*args, **kwds)\n"
     ]
    }
   ],
   "source": [
    "import sys\n",
    "sys.path.append('../')\n",
    "from src import optimizer as _optimizer\n",
    "from src import reader as _reader\n",
    "from src import visualization as _visualization\n",
    "import numpy as np\n",
    "import sklearn\n",
    "from sklearn.cluster import KMeans\n"
   ]
  },
  {
   "cell_type": "code",
   "execution_count": 2,
   "metadata": {},
   "outputs": [
    {
     "name": "stdout",
     "output_type": "stream",
     "text": [
      "['word2vec.csv', 'bags.csv', 'health.txt', 'health-dataset.zip', 'health-dataset']\n",
      "        0         1         2         3         4         5         6    \\\n",
      "0  0.013595 -0.068772 -0.013126  0.006024  0.037922 -0.020872 -0.010325   \n",
      "1  0.025009 -0.025586  0.012237  0.020567  0.014523 -0.018705 -0.058395   \n",
      "2  0.031544 -0.025882 -0.060617  0.035992  0.037742 -0.021132 -0.041023   \n",
      "3  0.058714 -0.080251 -0.026101  0.060461  0.016714 -0.005205 -0.037441   \n",
      "4  0.023366 -0.065667 -0.015601  0.022602  0.030365 -0.060590 -0.071055   \n",
      "5  0.005894 -0.074649 -0.001171  0.014182  0.029530  0.025231 -0.022154   \n",
      "6 -0.011415 -0.021273 -0.043368 -0.001785 -0.031960 -0.020326 -0.071195   \n",
      "7  0.049307 -0.024540 -0.011390  0.010187  0.017417 -0.000969 -0.020045   \n",
      "8  0.052583 -0.090634 -0.025581  0.003195  0.031459  0.002013  0.025611   \n",
      "9  0.061589 -0.026826 -0.020978  0.046825  0.002022 -0.016367 -0.058929   \n",
      "\n",
      "        7         8         9      ...          118       119       120  \\\n",
      "0  0.008019  0.008064  0.011381    ...    -0.020965  0.062473 -0.000060   \n",
      "1  0.028054 -0.032362  0.020582    ...    -0.034977  0.030475  0.038899   \n",
      "2  0.011076  0.003247  0.014427    ...    -0.000146  0.000293  0.029334   \n",
      "3  0.051472 -0.063505  0.003247    ...    -0.021879  0.017103  0.016472   \n",
      "4 -0.008641 -0.018728  0.042880    ...     0.014219  0.051613  0.027316   \n",
      "5  0.045819 -0.011713  0.047938    ...    -0.018329  0.043745 -0.060474   \n",
      "6  0.052319  0.024060  0.011016    ...    -0.003169  0.044308 -0.023204   \n",
      "7  0.026669  0.008933 -0.032209    ...    -0.039200  0.047800 -0.010576   \n",
      "8  0.035871  0.014359  0.047947    ...     0.032896  0.029130 -0.010469   \n",
      "9  0.057065 -0.034253  0.015480    ...    -0.030948  0.032338  0.002056   \n",
      "\n",
      "        121       122       123       124       125       126       127  \n",
      "0 -0.062621 -0.019586  0.046007  0.003811  0.011133 -0.040208 -0.041968  \n",
      "1  0.016926 -0.000666  0.007311  0.001348  0.008414 -0.013927  0.002399  \n",
      "2 -0.005735 -0.025683  0.028694  0.028692  0.049043 -0.011250 -0.029423  \n",
      "3 -0.004953 -0.001521 -0.018822  0.020216  0.025708 -0.016543  0.012973  \n",
      "4 -0.030006 -0.028209  0.064256 -0.019291  0.003725 -0.049937 -0.015975  \n",
      "5 -0.007864 -0.010597  0.095285  0.068036  0.004613 -0.016592 -0.016851  \n",
      "6 -0.105190 -0.045768  0.056052  0.010088 -0.017446 -0.036269  0.007241  \n",
      "7 -0.020911 -0.021944  0.052267  0.042141 -0.006579  0.015606  0.006171  \n",
      "8 -0.059175  0.001889  0.010496  0.017496  0.006684 -0.091280 -0.039847  \n",
      "9  0.014193 -0.025909  0.046399  0.025248 -0.001858 -0.024032  0.004472  \n",
      "\n",
      "[10 rows x 128 columns]\n",
      "(13229, 128)\n"
     ]
    }
   ],
   "source": [
    "X = _reader.readWord2Vec(normed=False)\n",
    "print(X[:10])\n",
    "print(X.shape)"
   ]
  },
  {
   "cell_type": "markdown",
   "metadata": {},
   "source": [
    "## Creating a Dendogram\n",
    "We are using lastP as metric for the linkage method: \n",
    "\n",
    "\"The last p non-singleton formed in the linkage are the only non-leaf nodes in the linkage; they correspond to rows Z[n-p-2:end] in Z. All other non-singleton clusters are contracted into leaf nodes.\"\n",
    "\n",
    "`https://docs.scipy.org/doc/scipy-0.14.0/reference/generated/scipy.cluster.hierarchy.dendrogram.html`"
   ]
  },
  {
   "cell_type": "code",
   "execution_count": 3,
   "metadata": {
    "scrolled": false
   },
   "outputs": [
    {
     "data": {
      "image/png": "[encoded data removed]",
      "text/plain": [
       "<Figure size 720x360 with 1 Axes>"
      ]
     },
     "metadata": {
      "needs_background": "light"
     },
     "output_type": "display_data"
    }
   ],
   "source": [
    "from importlib import reload\n",
    "reload(_optimizer)\n",
    "X_linked = _optimizer.linkage_cluster_dendogram(X)"
   ]
  },
  {
   "cell_type": "markdown",
   "metadata": {},
   "source": [
    "## Selecting the Cut \n",
    "Based on the above dendogram we will put a cut off line. \n",
    "`max_d = 2`"
   ]
  },
  {
   "cell_type": "code",
   "execution_count": 4,
   "metadata": {},
   "outputs": [
    {
     "data": {
      "text/plain": [
       "((13229,),\n",
       " array([ 1,  2,  3,  4,  5,  6,  7,  8,  9, 10, 11, 12, 13, 14, 15, 16, 17,\n",
       "        18, 19, 20, 21, 22, 23, 24, 25, 26, 27, 28, 29, 30, 31, 32, 33, 34,\n",
       "        35, 36, 37, 38, 39, 40, 41, 42, 43, 44, 45, 46, 47], dtype=int32))"
      ]
     },
     "execution_count": 4,
     "metadata": {},
     "output_type": "execute_result"
    }
   ],
   "source": [
    "reload(_optimizer)\n",
    "clusters = _optimizer.fcluster_cut(X, max_d=2)\n",
    "clusters.shape, np.unique(clusters)"
   ]
  },
  {
   "cell_type": "code",
   "execution_count": null,
   "metadata": {},
   "outputs": [],
   "source": []
  }
 ],
 "metadata": {
  "kernelspec": {
   "display_name": "Python 3",
   "language": "python",
   "name": "python3"
  },
  "language_info": {
   "codemirror_mode": {
    "name": "ipython",
    "version": 3
   },
   "file_extension": ".py",
   "mimetype": "text/x-python",
   "name": "python",
   "nbconvert_exporter": "python",
   "pygments_lexer": "ipython3",
   "version": "3.6.6"
  }
 },
 "nbformat": 4,
 "nbformat_minor": 2
}
